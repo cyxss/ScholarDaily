{
 "cells": [
  {
   "cell_type": "code",
   "execution_count": 1,
   "id": "91d63935-9db7-49c8-8bf8-263e9d3074ef",
   "metadata": {
    "tags": []
   },
   "outputs": [
    {
     "name": "stderr",
     "output_type": "stream",
     "text": [
      "2024-12-07 19:09:53 NSSE4310 metapub.config[128198] WARNING NCBI_API_KEY was not set.\n"
     ]
    }
   ],
   "source": [
    "from scholar_daily import ScholarDaily"
   ]
  },
  {
   "cell_type": "markdown",
   "id": "72fbac31-18e8-444d-9196-8408d6ceca8e",
   "metadata": {
    "tags": []
   },
   "source": [
    "# Set and load configs"
   ]
  },
  {
   "cell_type": "code",
   "execution_count": 2,
   "id": "9d486a4c-10cf-4391-a783-82863989ccb4",
   "metadata": {
    "tags": []
   },
   "outputs": [],
   "source": [
    "sd = ScholarDaily()\n",
    "sd.load_configs()"
   ]
  },
  {
   "cell_type": "code",
   "execution_count": 3,
   "id": "c280e9ae-fc91-4736-929b-10c51ab4e51a",
   "metadata": {},
   "outputs": [
    {
     "data": {
      "text/plain": [
       "datetime.date(2024, 12, 6)"
      ]
     },
     "execution_count": 3,
     "metadata": {},
     "output_type": "execute_result"
    }
   ],
   "source": [
    "sd.date"
   ]
  },
  {
   "cell_type": "code",
   "execution_count": 4,
   "id": "dcf5ce44-41c2-4f5a-93ec-8edb912c718c",
   "metadata": {
    "tags": []
   },
   "outputs": [],
   "source": [
    "sd.set_keywords([\"Cardiac Aging\", \"multiomics\",\"Hypergraph\", \"Pre-trian\"])"
   ]
  },
  {
   "cell_type": "code",
   "execution_count": 5,
   "id": "49e1fd27-24c2-40ee-9e2a-96abe02f900f",
   "metadata": {
    "tags": []
   },
   "outputs": [],
   "source": [
    "sd.set_sources(['Arxiv', 'PubMed'])"
   ]
  },
  {
   "cell_type": "code",
   "execution_count": 6,
   "id": "d77481c1-b431-44e0-8998-e17153fd4549",
   "metadata": {
    "tags": []
   },
   "outputs": [
    {
     "data": {
      "text/plain": [
       "{'Keywords': ['Cardiac Aging', 'multiomics', 'Hypergraph', 'Pre-trian'],\n",
       " 'DASHSCOPE_API_KEY': 'sk-f95b5265060e4603a2545173180242c7',\n",
       " 'LANGCHAIN_ENDPOINT': 'https://api.smith.langchain.com',\n",
       " 'LANGCHAIN_API_KEY': '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',\n",
       " 'LANGCHAIN_TRACING_V2': True,\n",
       " 'max_num_per_source': 30,\n",
       " 'Sources': ['Arxiv', 'PubMed']}"
      ]
     },
     "execution_count": 6,
     "metadata": {},
     "output_type": "execute_result"
    }
   ],
   "source": [
    "sd.get_all_configs()"
   ]
  },
  {
   "cell_type": "code",
   "execution_count": 7,
   "id": "30257fee-99c1-47be-ac6b-51662d4fabdb",
   "metadata": {
    "tags": []
   },
   "outputs": [
    {
     "name": "stdout",
     "output_type": "stream",
     "text": [
      "query condition as:\n",
      " all:Cardiac Aging OR all:multiomics OR all:Hypergraph OR all:Pre-trian\n"
     ]
    },
    {
     "name": "stderr",
     "output_type": "stream",
     "text": [
      "0it [00:00, ?it/s]2024-12-07 19:09:57 NSSE4310 arxiv[128198] INFO Requesting page (first: True, try: 0): https://export.arxiv.org/api/query?search_query=all%3ACardiac+Aging+OR+all%3Amultiomics+OR+all%3AHypergraph+OR+all%3APre-trian&id_list=&sortBy=submittedDate&sortOrder=descending&start=0&max_results=100\n",
      "2024-12-07 19:09:59 NSSE4310 arxiv[128198] INFO Got first page: 100 of 43950 total results\n",
      "0it [00:02, ?it/s]\n"
     ]
    },
    {
     "name": "stdout",
     "output_type": "stream",
     "text": [
      "0 studies found in Arxiv.\n",
      "query condition as:\n",
      " Cardiac Aging OR multiomics OR Hypergraph OR Pre-trian\n"
     ]
    },
    {
     "name": "stderr",
     "output_type": "stream",
     "text": [
      "100%|██████████| 9/9 [00:10<00:00,  1.14s/it]\n"
     ]
    },
    {
     "name": "stdout",
     "output_type": "stream",
     "text": [
      "9 studies found in PubMed.\n",
      "# Paper after removing duplicates: 9\n"
     ]
    },
    {
     "name": "stderr",
     "output_type": "stream",
     "text": [
      "2024-12-07 19:10:21 NSSE4310 httpx[128198] INFO HTTP Request: POST https://dashscope.aliyuncs.com/compatible-mode/v1/chat/completions \"HTTP/1.1 200 OK\"\n"
     ]
    },
    {
     "name": "stdout",
     "output_type": "stream",
     "text": [
      "Clustered 9 Papers into 5 Topics \n"
     ]
    }
   ],
   "source": [
    "sd.produce()"
   ]
  }
 ],
 "metadata": {
  "kernelspec": {
   "display_name": "langchain",
   "language": "python",
   "name": "langchain"
  },
  "language_info": {
   "codemirror_mode": {
    "name": "ipython",
    "version": 3
   },
   "file_extension": ".py",
   "mimetype": "text/x-python",
   "name": "python",
   "nbconvert_exporter": "python",
   "pygments_lexer": "ipython3",
   "version": "3.12.4"
  }
 },
 "nbformat": 4,
 "nbformat_minor": 5
}
