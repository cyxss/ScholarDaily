{
 "cells": [
  {
   "cell_type": "code",
   "execution_count": 1,
   "id": "91d63935-9db7-49c8-8bf8-263e9d3074ef",
   "metadata": {
    "tags": []
   },
   "outputs": [
    {
     "name": "stderr",
     "output_type": "stream",
     "text": [
      "2024-12-09 15:58:39 NSSE4310 metapub.config[1600666] WARNING NCBI_API_KEY was not set.\n"
     ]
    }
   ],
   "source": [
    "from scholar_daily import ScholarDaily"
   ]
  },
  {
   "cell_type": "code",
   "execution_count": 2,
   "id": "ff82a113-035b-4961-a516-a2590fe79216",
   "metadata": {
    "tags": []
   },
   "outputs": [],
   "source": [
    "import os\n",
    "os.environ['COZE_API_TOKEN'] = \"pat_Pua5I0yMTVtCi05LXXibP6HKrgeSm87I66BU5VjO9SndvtCT3AWD6qC0ib3wZtPP\""
   ]
  },
  {
   "cell_type": "markdown",
   "id": "72fbac31-18e8-444d-9196-8408d6ceca8e",
   "metadata": {
    "tags": []
   },
   "source": [
    "# Set and load configs"
   ]
  },
  {
   "cell_type": "code",
   "execution_count": 3,
   "id": "9d486a4c-10cf-4391-a783-82863989ccb4",
   "metadata": {
    "tags": []
   },
   "outputs": [],
   "source": [
    "sd = ScholarDaily()\n",
    "sd.load_configs()"
   ]
  },
  {
   "cell_type": "code",
   "execution_count": 4,
   "id": "49e1fd27-24c2-40ee-9e2a-96abe02f900f",
   "metadata": {
    "tags": []
   },
   "outputs": [],
   "source": [
    "sd.set_sources(['Arxiv', 'PubMed'])"
   ]
  },
  {
   "cell_type": "code",
   "execution_count": 5,
   "id": "d77481c1-b431-44e0-8998-e17153fd4549",
   "metadata": {
    "tags": []
   },
   "outputs": [
    {
     "data": {
      "text/plain": [
       "{'Keywords': ['Atherosclerosis',\n",
       "  'multiomics',\n",
       "  'Knowledge graph',\n",
       "  'foundation model'],\n",
       " 'DASHSCOPE_API_KEY': 'ENTER YOUR DASHSCOPE_API HERE',\n",
       " 'max_num_per_source': 30,\n",
       " 'Sources': ['Arxiv', 'PubMed']}"
      ]
     },
     "execution_count": 5,
     "metadata": {},
     "output_type": "execute_result"
    }
   ],
   "source": [
    "sd.get_all_configs()"
   ]
  },
  {
   "cell_type": "code",
   "execution_count": 6,
   "id": "820eb43c-aa3e-4109-83ef-65cddcf8cb64",
   "metadata": {
    "tags": []
   },
   "outputs": [
    {
     "data": {
      "text/plain": [
       "datetime.date(2024, 12, 5)"
      ]
     },
     "execution_count": 6,
     "metadata": {},
     "output_type": "execute_result"
    }
   ],
   "source": [
    "sd.set_date(\"20241205\")\n",
    "sd.date"
   ]
  },
  {
   "cell_type": "code",
   "execution_count": 7,
   "id": "0692e920-80ab-428a-8c7b-b829bd90b346",
   "metadata": {
    "tags": []
   },
   "outputs": [],
   "source": [
    "sd.configs['DASHSCOPE_API_KEY'] = os.environ['DASHSCOPE_API_KEY']"
   ]
  },
  {
   "cell_type": "markdown",
   "id": "783f681d-037e-46c4-9e04-e35e368c8a96",
   "metadata": {},
   "source": [
    "# Start"
   ]
  },
  {
   "cell_type": "code",
   "execution_count": 8,
   "id": "30257fee-99c1-47be-ac6b-51662d4fabdb",
   "metadata": {
    "tags": []
   },
   "outputs": [
    {
     "name": "stdout",
     "output_type": "stream",
     "text": [
      "query condition as:\n",
      " all:Atherosclerosis OR all:multiomics OR all:Knowledge graph OR all:foundation model\n"
     ]
    },
    {
     "name": "stderr",
     "output_type": "stream",
     "text": [
      "0it [00:00, ?it/s]2024-12-09 15:58:40 NSSE4310 arxiv[1600666] INFO Requesting page (first: True, try: 0): https://export.arxiv.org/api/query?search_query=all%3AAtherosclerosis+OR+all%3Amultiomics+OR+all%3AKnowledge+graph+OR+all%3Afoundation+model&id_list=&sortBy=submittedDate&sortOrder=descending&start=0&max_results=100\n",
      "2024-12-09 15:58:42 NSSE4310 arxiv[1600666] INFO Got first page: 100 of 1063175 total results\n",
      "0it [00:02, ?it/s]\n"
     ]
    },
    {
     "name": "stdout",
     "output_type": "stream",
     "text": [
      "0 studies found in Arxiv.\n",
      "query condition as:\n",
      " \"Atherosclerosis\" OR \"multiomics\" OR \"Knowledge graph\" OR \"foundation model\"\n"
     ]
    },
    {
     "name": "stderr",
     "output_type": "stream",
     "text": [
      "100%|██████████| 30/30 [00:38<00:00,  1.27s/it]\n"
     ]
    },
    {
     "name": "stdout",
     "output_type": "stream",
     "text": [
      "30 studies found in PubMed.\n",
      "# Paper after removing duplicates: 30\n"
     ]
    },
    {
     "name": "stderr",
     "output_type": "stream",
     "text": [
      "2024-12-09 16:00:10 NSSE4310 httpx[1600666] INFO HTTP Request: POST https://dashscope.aliyuncs.com/compatible-mode/v1/chat/completions \"HTTP/1.1 200 OK\"\n"
     ]
    },
    {
     "name": "stdout",
     "output_type": "stream",
     "text": [
      "Clustered 30 related papers into 7 Topics \n"
     ]
    },
    {
     "name": "stderr",
     "output_type": "stream",
     "text": [
      "2024-12-09 16:00:10 NSSE4310 httpx[1600666] INFO HTTP Request: POST https://api.coze.cn/v3/chat?conversation_id= \"HTTP/1.1 200 OK\"\n"
     ]
    }
   ],
   "source": [
    "sd.produce()"
   ]
  }
 ],
 "metadata": {
  "kernelspec": {
   "display_name": "langchain",
   "language": "python",
   "name": "langchain"
  },
  "language_info": {
   "codemirror_mode": {
    "name": "ipython",
    "version": 3
   },
   "file_extension": ".py",
   "mimetype": "text/x-python",
   "name": "python",
   "nbconvert_exporter": "python",
   "pygments_lexer": "ipython3",
   "version": "3.12.4"
  }
 },
 "nbformat": 4,
 "nbformat_minor": 5
}
