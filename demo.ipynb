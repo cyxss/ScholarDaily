{
 "cells": [
  {
   "cell_type": "code",
   "execution_count": 1,
   "id": "91d63935-9db7-49c8-8bf8-263e9d3074ef",
   "metadata": {
    "tags": []
   },
   "outputs": [
    {
     "name": "stderr",
     "output_type": "stream",
     "text": [
      "2024-12-09 22:04:46 NSSE4310 metapub.config[1650523] WARNING NCBI_API_KEY was not set.\n"
     ]
    }
   ],
   "source": [
    "from scholar_daily import ScholarDaily"
   ]
  },
  {
   "cell_type": "code",
   "execution_count": 2,
   "id": "ff82a113-035b-4961-a516-a2590fe79216",
   "metadata": {
    "tags": []
   },
   "outputs": [],
   "source": [
    "import os\n",
    "os.environ['COZE_API_TOKEN'] = \"pat_Pua5I0yMTVtCi05LXXibP6HKrgeSm87I66BU5VjO9SndvtCT3AWD6qC0ib3wZtPP\"\n",
    "os.environ['DASHSCOPE_API_KEY'] = \"API_KEY\""
   ]
  },
  {
   "cell_type": "markdown",
   "id": "72fbac31-18e8-444d-9196-8408d6ceca8e",
   "metadata": {
    "tags": []
   },
   "source": [
    "# Set and load configs"
   ]
  },
  {
   "cell_type": "code",
   "execution_count": 3,
   "id": "9d486a4c-10cf-4391-a783-82863989ccb4",
   "metadata": {
    "tags": []
   },
   "outputs": [],
   "source": [
    "sd = ScholarDaily()\n",
    "sd.load_configs()"
   ]
  },
  {
   "cell_type": "code",
   "execution_count": 4,
   "id": "49e1fd27-24c2-40ee-9e2a-96abe02f900f",
   "metadata": {
    "tags": []
   },
   "outputs": [],
   "source": [
    "sd.set_sources(['Arxiv', 'PubMed'])"
   ]
  },
  {
   "cell_type": "code",
   "execution_count": 5,
   "id": "d77481c1-b431-44e0-8998-e17153fd4549",
   "metadata": {
    "tags": []
   },
   "outputs": [
    {
     "data": {
      "text/plain": [
       "{'Keywords': ['Atherosclerosis',\n",
       "  'multiomics',\n",
       "  'Knowledge graph',\n",
       "  'foundation model'],\n",
       " 'DASHSCOPE_API_KEY': 'ENTER YOUR DASHSCOPE_API HERE',\n",
       " 'max_num_per_source': 30,\n",
       " 'Sources': ['Arxiv', 'PubMed']}"
      ]
     },
     "execution_count": 5,
     "metadata": {},
     "output_type": "execute_result"
    }
   ],
   "source": [
    "sd.get_all_configs()"
   ]
  },
  {
   "cell_type": "code",
   "execution_count": 9,
   "id": "820eb43c-aa3e-4109-83ef-65cddcf8cb64",
   "metadata": {
    "tags": []
   },
   "outputs": [
    {
     "data": {
      "text/plain": [
       "datetime.date(2024, 12, 8)"
      ]
     },
     "execution_count": 9,
     "metadata": {},
     "output_type": "execute_result"
    }
   ],
   "source": [
    "sd.set_date(\"20241208\")\n",
    "sd.date"
   ]
  },
  {
   "cell_type": "code",
   "execution_count": 10,
   "id": "0692e920-80ab-428a-8c7b-b829bd90b346",
   "metadata": {
    "tags": []
   },
   "outputs": [],
   "source": [
    "sd.configs['DASHSCOPE_API_KEY'] = os.environ['DASHSCOPE_API_KEY']"
   ]
  },
  {
   "cell_type": "markdown",
   "id": "84cf7f77-94a8-4bd6-adbc-2f4b9c16e235",
   "metadata": {
    "tags": []
   },
   "source": [
    "# Start"
   ]
  },
  {
   "cell_type": "code",
   "execution_count": 11,
   "id": "62d50967-b55f-44c9-a7b0-8819fb3c81b8",
   "metadata": {
    "tags": []
   },
   "outputs": [
    {
     "name": "stdout",
     "output_type": "stream",
     "text": [
      "query condition as:\n",
      " all:Atherosclerosis OR all:multiomics OR all:Knowledge graph OR all:foundation model\n"
     ]
    },
    {
     "name": "stderr",
     "output_type": "stream",
     "text": [
      "0it [00:00, ?it/s]2024-12-09 22:05:33 NSSE4310 arxiv[1650523] INFO Requesting page (first: True, try: 0): https://export.arxiv.org/api/query?search_query=all%3AAtherosclerosis+OR+all%3Amultiomics+OR+all%3AKnowledge+graph+OR+all%3Afoundation+model&id_list=&sortBy=submittedDate&sortOrder=descending&start=0&max_results=100\n",
      "2024-12-09 22:05:35 NSSE4310 arxiv[1650523] INFO Got first page: 100 of 1063175 total results\n",
      "0it [00:02, ?it/s]\n"
     ]
    },
    {
     "name": "stdout",
     "output_type": "stream",
     "text": [
      "0 studies found in Arxiv.\n",
      "query condition as:\n",
      " \"Atherosclerosis\" OR \"multiomics\" OR \"Knowledge graph\" OR \"foundation model\"\n"
     ]
    },
    {
     "name": "stderr",
     "output_type": "stream",
     "text": [
      "100%|██████████| 9/9 [00:10<00:00,  1.19s/it]\n"
     ]
    },
    {
     "name": "stdout",
     "output_type": "stream",
     "text": [
      "9 studies found in PubMed.\n",
      "# Paper after removing duplicates: 9\n"
     ]
    },
    {
     "name": "stderr",
     "output_type": "stream",
     "text": [
      "2024-12-09 22:06:00 NSSE4310 httpx[1650523] INFO HTTP Request: POST https://dashscope.aliyuncs.com/compatible-mode/v1/chat/completions \"HTTP/1.1 200 OK\"\n"
     ]
    },
    {
     "name": "stdout",
     "output_type": "stream",
     "text": [
      "Clustered 9 related papers into 7 Topics \n"
     ]
    },
    {
     "name": "stderr",
     "output_type": "stream",
     "text": [
      "  0%|          | 0/9 [00:00<?, ?it/s]2024-12-09 22:06:05 NSSE4310 httpx[1650523] INFO HTTP Request: POST https://dashscope.aliyuncs.com/compatible-mode/v1/chat/completions \"HTTP/1.1 200 OK\"\n",
      " 11%|█         | 1/9 [00:05<00:41,  5.21s/it]2024-12-09 22:06:15 NSSE4310 httpx[1650523] INFO HTTP Request: POST https://dashscope.aliyuncs.com/compatible-mode/v1/chat/completions \"HTTP/1.1 200 OK\"\n",
      " 22%|██▏       | 2/9 [00:15<00:55,  7.94s/it]2024-12-09 22:06:23 NSSE4310 httpx[1650523] INFO HTTP Request: POST https://dashscope.aliyuncs.com/compatible-mode/v1/chat/completions \"HTTP/1.1 200 OK\"\n",
      " 33%|███▎      | 3/9 [00:23<00:48,  8.12s/it]2024-12-09 22:06:32 NSSE4310 httpx[1650523] INFO HTTP Request: POST https://dashscope.aliyuncs.com/compatible-mode/v1/chat/completions \"HTTP/1.1 200 OK\"\n",
      " 44%|████▍     | 4/9 [00:32<00:42,  8.45s/it]2024-12-09 22:06:40 NSSE4310 httpx[1650523] INFO HTTP Request: POST https://dashscope.aliyuncs.com/compatible-mode/v1/chat/completions \"HTTP/1.1 200 OK\"\n",
      " 56%|█████▌    | 5/9 [00:40<00:33,  8.25s/it]2024-12-09 22:06:48 NSSE4310 httpx[1650523] INFO HTTP Request: POST https://dashscope.aliyuncs.com/compatible-mode/v1/chat/completions \"HTTP/1.1 200 OK\"\n",
      " 67%|██████▋   | 6/9 [00:48<00:24,  8.12s/it]2024-12-09 22:06:54 NSSE4310 httpx[1650523] INFO HTTP Request: POST https://dashscope.aliyuncs.com/compatible-mode/v1/chat/completions \"HTTP/1.1 200 OK\"\n",
      " 78%|███████▊  | 7/9 [00:54<00:15,  7.51s/it]2024-12-09 22:07:00 NSSE4310 httpx[1650523] INFO HTTP Request: POST https://dashscope.aliyuncs.com/compatible-mode/v1/chat/completions \"HTTP/1.1 200 OK\"\n",
      " 89%|████████▉ | 8/9 [00:59<00:06,  6.91s/it]2024-12-09 22:07:11 NSSE4310 httpx[1650523] INFO HTTP Request: POST https://dashscope.aliyuncs.com/compatible-mode/v1/chat/completions \"HTTP/1.1 200 OK\"\n",
      "100%|██████████| 9/9 [01:10<00:00,  7.85s/it]\n",
      "2024-12-09 22:07:11 NSSE4310 httpx[1650523] INFO HTTP Request: POST https://api.coze.cn/v3/chat?conversation_id= \"HTTP/1.1 200 OK\"\n"
     ]
    }
   ],
   "source": [
    "sd.produce()"
   ]
  }
 ],
 "metadata": {
  "kernelspec": {
   "display_name": "langchain",
   "language": "python",
   "name": "langchain"
  },
  "language_info": {
   "codemirror_mode": {
    "name": "ipython",
    "version": 3
   },
   "file_extension": ".py",
   "mimetype": "text/x-python",
   "name": "python",
   "nbconvert_exporter": "python",
   "pygments_lexer": "ipython3",
   "version": "3.12.4"
  }
 },
 "nbformat": 4,
 "nbformat_minor": 5
}
